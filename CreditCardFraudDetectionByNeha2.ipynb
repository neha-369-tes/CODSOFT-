{
  "nbformat": 4,
  "nbformat_minor": 0,
  "metadata": {
    "colab": {
      "provenance": [],
      "authorship_tag": "ABX9TyMHdeEje/HXGZyCyIlQYSoJ",
      "include_colab_link": true
    },
    "kernelspec": {
      "name": "python3",
      "display_name": "Python 3"
    },
    "language_info": {
      "name": "python"
    }
  },
  "cells": [
    {
      "cell_type": "markdown",
      "metadata": {
        "id": "view-in-github",
        "colab_type": "text"
      },
      "source": [
        "<a href=\"https://colab.research.google.com/github/neha-369-tes/CODSOFT-/blob/main/CreditCardFraudDetectionByNeha2.ipynb\" target=\"_parent\"><img src=\"https://colab.research.google.com/assets/colab-badge.svg\" alt=\"Open In Colab\"/></a>"
      ]
    },
    {
      "source": [
        "import numpy as np\n",
        "import pandas as pd\n",
        "import matplotlib.pyplot as plt\n",
        "from sklearn import preprocessing\n",
        "from sklearn.model_selection import train_test_split\n",
        "from sklearn.linear_model import LogisticRegression\n",
        "from sklearn.ensemble import RandomForestClassifier\n",
        "from sklearn.tree import DecisionTreeClassifier\n",
        "from sklearn.metrics import accuracy_score, mean_squared_error, mean_absolute_error, r2_score\n",
        "from sklearn.impute import SimpleImputer # Import the imputer\n",
        "\n",
        "# Load the datasets\n",
        "df = pd.read_csv(\"/content/fraudTrain.csv\")\n",
        "df.drop(columns=[\"Unnamed: 0\", \"trans_num\", \"street\"], inplace=True)\n",
        "\n",
        "# Sample data for training\n",
        "data = df.head(n=20000)\n",
        "\n",
        "# Preprocess the data\n",
        "df_processed = pd.get_dummies(data=data)\n",
        "x_train = df_processed.drop(columns='is_fraud', axis=1)\n",
        "y_train_filled = df_processed['is_fraud'].fillna(value=0)\n",
        "\n",
        "# Impute missing values in x_train (replace NaNs with the most frequent value)\n",
        "imputer = SimpleImputer(strategy='most_frequent') # Create an imputer object\n",
        "x_train_imputed = pd.DataFrame(imputer.fit_transform(x_train), columns=x_train.columns) # Fit and transform x_train\n",
        "\n",
        "# Load the test data\n",
        "df_test = pd.read_csv(\"/content/fraudTest.csv\")\n",
        "df_test.drop(columns=[\"Unnamed: 0\", \"trans_num\", \"street\"], inplace=True)\n",
        "\n",
        "# Sample data for testing\n",
        "data_test = df_test.sample(frac=1, random_state=1).reset_index(drop=True).head(n=5000)\n",
        "\n",
        "# Preprocess the test data\n",
        "df_processed_test = pd.get_dummies(data=data_test)\n",
        "\n",
        "# Align the columns in train and test datasets\n",
        "x_test = df_processed_test.drop(columns='is_fraud', axis=1).reindex(columns=x_train.columns, fill_value=0)\n",
        "y_test_filled = df_processed_test['is_fraud'].fillna(value=0)\n",
        "\n",
        "# Impute missing values in x_test (using the same imputer fitted on x_train)\n",
        "x_test_imputed = pd.DataFrame(imputer.transform(x_test), columns=x_test.columns) # Transform x_test\n",
        "\n",
        "# Logistic Regression (use imputed data)\n",
        "LR = LogisticRegression(solver='liblinear')\n",
        "LR.fit(x_train_imputed, y_train_filled) # Fit with imputed data\n",
        "predictions_lr = LR.predict(x_test_imputed) # Predict using imputed data\n",
        "LR_Accuracy_Score = accuracy_score(y_test_filled, predictions_lr)\n",
        "print(\"Logistic Regression Accuracy Score:\", LR_Accuracy_Score)\n",
        "\n",
        "# Decision Tree Classifier (use imputed data)\n",
        "Tree = DecisionTreeClassifier()\n",
        "Tree.fit(x_train_imputed, y_train_filled) # Fit with imputed data\n",
        "predictions_tree = Tree.predict(x_test_imputed) # Predict using imputed data\n",
        "Tree_Accuracy_Score = accuracy_score(y_test_filled, predictions_tree)\n",
        "print(\"Decision Tree Accuracy Score:\", Tree_Accuracy_Score)\n",
        "\n",
        "# RandomForest Classifier (use imputed data)\n",
        "ranr = RandomForestClassifier(n_estimators=1000, random_state=42)\n",
        "ranr.fit(x_train_imputed, y_train_filled) # Fit with imputed data\n",
        "predictions_rf = ranr.predict(x_test_imputed) # Predict using imputed data\n",
        "\n",
        "# Evaluate the RandomForest predictions\n",
        "mse = mean_squared_error(y_test_filled, predictions_rf)\n",
        "mae = mean_absolute_error(y_test_filled, predictions_rf)\n",
        "r2 = r2_score(y_test_filled, predictions_rf)\n",
        "\n",
        "print(\"Random Forest Mean Squared Error:\", mse)\n",
        "print(\"Random Forest Mean Absolute Error:\", mae)\n",
        "print(\"Random Forest R-squared Score:\", r2)"
      ],
      "cell_type": "code",
      "metadata": {
        "colab": {
          "base_uri": "https://localhost:8080/"
        },
        "id": "hTK-S8vz_oZM",
        "outputId": "ad89deea-8558-45ff-cabd-fb58edf7888f"
      },
      "execution_count": 2,
      "outputs": [
        {
          "output_type": "stream",
          "name": "stdout",
          "text": [
            "Logistic Regression Accuracy Score: 0.9964\n",
            "Decision Tree Accuracy Score: 0.9952\n",
            "Random Forest Mean Squared Error: 0.0056\n",
            "Random Forest Mean Absolute Error: 0.0056\n",
            "Random Forest R-squared Score: -0.5611757883937736\n"
          ]
        }
      ]
    }
  ]
}